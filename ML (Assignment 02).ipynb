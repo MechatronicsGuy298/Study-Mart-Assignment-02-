{
 "cells": [
  {
   "cell_type": "markdown",
   "id": "0c1796df",
   "metadata": {},
   "source": [
    "# Variables\n",
    "In Python, a variable is like a symbolic name that points to an object. We can create a variable by assigning it a value using the equals sign (`=`). Once created, we can use the variable in statements or expressions. Python variables are not restricted to a specific data type, allowing us to assign different types of values to the same variable. Python variable is essentially a name associated with an object, making it easier to manipulate and refer to data as our program executes."
   ]
  },
  {
   "cell_type": "markdown",
   "id": "06182292",
   "metadata": {},
   "source": [
    "Context-01: Write a program that swaps the values of two variables."
   ]
  },
  {
   "cell_type": "code",
   "execution_count": 2,
   "id": "ed8f2322",
   "metadata": {},
   "outputs": [
    {
     "name": "stdout",
     "output_type": "stream",
     "text": [
      "Enter the value for variable1: 10\n",
      "Enter the value for variable2: 20\n",
      "\n",
      "Before swapping:\n",
      "Variable1 = 10\n",
      "Variable2 = 20\n",
      "\n",
      "After swapping:\n",
      "Variable1 = 20\n",
      "Variable2 = 10\n"
     ]
    }
   ],
   "source": [
    "variable1 = input(\"Enter the value for variable1: \")\n",
    "variable2 = input(\"Enter the value for variable2: \")\n",
    "\n",
    "print(\"\\nBefore swapping:\")\n",
    "print(\"Variable1 =\", variable1)\n",
    "print(\"Variable2 =\", variable2)\n",
    "\n",
    "temp = variable1\n",
    "variable1 = variable2\n",
    "variable2 = temp\n",
    "\n",
    "print(\"\\nAfter swapping:\")\n",
    "print(\"Variable1 =\", variable1)\n",
    "print(\"Variable2 =\", variable2)"
   ]
  },
  {
   "cell_type": "markdown",
   "id": "8d8563fe",
   "metadata": {},
   "source": [
    "Context-02: Write a program that calculates the area of a rectangle given its length and width."
   ]
  },
  {
   "cell_type": "code",
   "execution_count": 4,
   "id": "03b9fe90",
   "metadata": {},
   "outputs": [
    {
     "name": "stdout",
     "output_type": "stream",
     "text": [
      "Enter the length of the rectangle: 10\n",
      "Enter the width of the rectangle: 20\n",
      "The area of the rectangle is 200.0 square units.\n"
     ]
    }
   ],
   "source": [
    "def calculate_rectangle_area(length, width):\n",
    "    area = length * width\n",
    "    return area\n",
    "\n",
    "length = float(input(\"Enter the length of the rectangle: \"))\n",
    "width = float(input(\"Enter the width of the rectangle: \"))\n",
    "\n",
    "rectangle_area = calculate_rectangle_area(length, width)\n",
    "print(f\"The area of the rectangle is {rectangle_area} square units.\")"
   ]
  },
  {
   "cell_type": "markdown",
   "id": "bb56fac3",
   "metadata": {},
   "source": [
    "Context-03: Write a program that converts temperature from Fahrenheit to Celsius."
   ]
  },
  {
   "cell_type": "code",
   "execution_count": 5,
   "id": "8e20dde4",
   "metadata": {},
   "outputs": [
    {
     "name": "stdout",
     "output_type": "stream",
     "text": [
      "Enter the temperature in Fahrenheit: 98.6\n",
      "98.60 Fahrenheit = 37.00 Celsius\n"
     ]
    }
   ],
   "source": [
    "def convert_fahrenheit_to_celsius(fahrenheit):\n",
    "    celsius = (fahrenheit - 32) * 5 / 9\n",
    "    return celsius\n",
    "\n",
    "fahrenheit = float(input(\"Enter the temperature in Fahrenheit: \"))\n",
    "\n",
    "celsius = convert_fahrenheit_to_celsius(fahrenheit)\n",
    "print(f\"{fahrenheit:.2f} Fahrenheit = {celsius:.2f} Celsius\")"
   ]
  },
  {
   "cell_type": "code",
   "execution_count": 6,
   "id": "dcb25f6a",
   "metadata": {},
   "outputs": [
    {
     "name": "stdout",
     "output_type": "stream",
     "text": [
      "Enter the temperature in Celsius: 37\n",
      "37.00 Celsius = 98.60 Fahrenheit\n"
     ]
    }
   ],
   "source": [
    "def convert_celsius_to_fahrenheit(celsius):\n",
    "    fahrenheit = (celsius * 9 / 5) + 32\n",
    "    return fahrenheit\n",
    "\n",
    "celsius = float(input(\"Enter the temperature in Celsius: \"))\n",
    "\n",
    "fahrenheit = convert_celsius_to_fahrenheit(celsius)\n",
    "print(f\"{celsius:.2f} Celsius = {fahrenheit:.2f} Fahrenheit\")"
   ]
  },
  {
   "cell_type": "markdown",
   "id": "586a89e8",
   "metadata": {},
   "source": [
    "Context-04: Write a program that calculates the volume of a sphere given its radius."
   ]
  },
  {
   "cell_type": "code",
   "execution_count": 8,
   "id": "815a50db",
   "metadata": {},
   "outputs": [
    {
     "name": "stdout",
     "output_type": "stream",
     "text": [
      "Enter the radius of the sphere: 20\n",
      "The volume of the sphere is approximately 33493.33 cubic units.\n"
     ]
    }
   ],
   "source": [
    "def calculate_sphere_volume(radius):\n",
    "    pi = 3.14\n",
    "    volume = (4 / 3) * pi * (radius ** 3)\n",
    "    return volume\n",
    "\n",
    "radius = float(input(\"Enter the radius of the sphere: \"))\n",
    "\n",
    "sphere_volume = calculate_sphere_volume(radius)\n",
    "print(f\"The volume of the sphere is approximately {sphere_volume:.2f} cubic units.\")"
   ]
  },
  {
   "cell_type": "markdown",
   "id": "64d5abea",
   "metadata": {},
   "source": [
    "Context-05: Write a program that finds the average of three numbers."
   ]
  },
  {
   "cell_type": "code",
   "execution_count": 9,
   "id": "dd61ac79",
   "metadata": {
    "scrolled": true
   },
   "outputs": [
    {
     "name": "stdout",
     "output_type": "stream",
     "text": [
      "Enter the first number: 10\n",
      "Enter the second number: 20\n",
      "Enter the third number: 30\n",
      "The average of the three numbers is 20.00\n"
     ]
    }
   ],
   "source": [
    "def calculate_average(num1, num2, num3):\n",
    "    return (num1 + num2 + num3) / 3\n",
    "\n",
    "num1 = float(input(\"Enter the first number: \"))\n",
    "num2 = float(input(\"Enter the second number: \"))\n",
    "num3 = float(input(\"Enter the third number: \"))\n",
    "\n",
    "avg = calculate_average(num1, num2, num3)\n",
    "\n",
    "print(f\"The average of the three numbers is {avg:.2f}\")"
   ]
  },
  {
   "cell_type": "markdown",
   "id": "1f18127b",
   "metadata": {},
   "source": [
    "# If-elif-else Condition\n",
    "In Python, 'if', 'elif' (else if), and 'else' are used for decision-making in code. The 'if' statement checks a condition, and if it's true, a specific block of code is executed. If the 'if' condition is false, the 'elif' statement provides an alternative condition to check, and its code block is executed if true. Multiple 'elif' statements can be used for additional conditions. The 'else' statement, placed at the end, has code that is executed if none of the previous conditions are true. These statements help control the flow of the program, allowing it to take different paths based on specified conditions."
   ]
  },
  {
   "cell_type": "markdown",
   "id": "f0b43901",
   "metadata": {},
   "source": [
    "Context-06: Write a program that finds the average of three numbers."
   ]
  },
  {
   "cell_type": "code",
   "execution_count": 1,
   "id": "17a9da68",
   "metadata": {},
   "outputs": [
    {
     "name": "stdout",
     "output_type": "stream",
     "text": [
      "Enter a number: 40\n",
      "40 is **Even**.\n"
     ]
    }
   ],
   "source": [
    "num = int(input(\"Enter a number: \"))\n",
    "\n",
    "if (num % 2) == 0:\n",
    "    print(f\"{num} is **Even**.\")\n",
    "else:\n",
    "    print(f\"{num} is **Odd**.\")"
   ]
  },
  {
   "cell_type": "code",
   "execution_count": 2,
   "id": "9e3b7521",
   "metadata": {},
   "outputs": [
    {
     "name": "stdout",
     "output_type": "stream",
     "text": [
      "Enter a number: 35\n",
      "35 is **Odd**.\n"
     ]
    }
   ],
   "source": [
    "num = int(input(\"Enter a number: \"))\n",
    "\n",
    "if (num % 2) == 0:\n",
    "    print(f\"{num} is **Even**.\")\n",
    "else:\n",
    "    print(f\"{num} is **Odd**.\")"
   ]
  },
  {
   "cell_type": "markdown",
   "id": "d37cabca",
   "metadata": {},
   "source": [
    "Context-07: Write a program that finds the maximum of three numbers."
   ]
  },
  {
   "cell_type": "code",
   "execution_count": 3,
   "id": "357b9dd0",
   "metadata": {},
   "outputs": [
    {
     "name": "stdout",
     "output_type": "stream",
     "text": [
      "The largest number is 14\n"
     ]
    }
   ],
   "source": [
    "def maximum(a, b, c):\n",
    "    if a >= b and a >= c:\n",
    "        largest = a\n",
    "    elif b >= a and b >= c:\n",
    "        largest = b\n",
    "    else:\n",
    "        largest = c\n",
    "    return largest\n",
    "\n",
    "# Example usage\n",
    "a = 10\n",
    "b = 14\n",
    "c = 12\n",
    "print(f\"The largest number is {maximum(a, b, c)}\")"
   ]
  },
  {
   "cell_type": "markdown",
   "id": "eb0d93bb",
   "metadata": {},
   "source": [
    "Context-08: Write a program that determines if a year is a leap year or not."
   ]
  },
  {
   "cell_type": "code",
   "execution_count": 4,
   "id": "5c1c9085",
   "metadata": {},
   "outputs": [
    {
     "name": "stdout",
     "output_type": "stream",
     "text": [
      "Enter a year: 2016\n",
      "2016 is a leap year\n"
     ]
    }
   ],
   "source": [
    "year = int(input(\"Enter a year: \"))\n",
    "\n",
    "if (year % 400 == 0) and (year % 100 == 0):\n",
    "    print(f\"{year} is a leap year\")\n",
    "elif (year % 4 == 0) and (year % 100 != 0):\n",
    "    print(f\"{year} is a leap year\")\n",
    "else:\n",
    "    print(f\"{year} is not a leap year\")"
   ]
  },
  {
   "cell_type": "code",
   "execution_count": 5,
   "id": "bd55b860",
   "metadata": {},
   "outputs": [
    {
     "name": "stdout",
     "output_type": "stream",
     "text": [
      "Enter a year: 2013\n",
      "2013 is not a leap year\n"
     ]
    }
   ],
   "source": [
    "year = int(input(\"Enter a year: \"))\n",
    "\n",
    "if (year % 400 == 0) and (year % 100 == 0):\n",
    "    print(f\"{year} is a leap year\")\n",
    "elif (year % 4 == 0) and (year % 100 != 0):\n",
    "    print(f\"{year} is a leap year\")\n",
    "else:\n",
    "    print(f\"{year} is not a leap year\")"
   ]
  },
  {
   "cell_type": "markdown",
   "id": "01bf9a6a",
   "metadata": {},
   "source": [
    "Context-09: Write a python program that determines if a number is positive, negative, or zero."
   ]
  },
  {
   "cell_type": "code",
   "execution_count": 2,
   "id": "3e0285ac",
   "metadata": {
    "scrolled": true
   },
   "outputs": [
    {
     "name": "stdout",
     "output_type": "stream",
     "text": [
      "Enter a number: 2\n",
      "The number 2.0 is **positive**.\n"
     ]
    }
   ],
   "source": [
    "num = float(input(\"Enter a number: \"))\n",
    "\n",
    "if num > 0:\n",
    "    print(f\"The number {num} is **positive**.\")\n",
    "elif num == 0:\n",
    "    print(f\"The number {num} is **zero**.\")\n",
    "else:\n",
    "    print(f\"The number {num} is **negative**.\")"
   ]
  },
  {
   "cell_type": "code",
   "execution_count": 3,
   "id": "a1804d47",
   "metadata": {},
   "outputs": [
    {
     "name": "stdout",
     "output_type": "stream",
     "text": [
      "Enter a number: 0\n",
      "The number 0.0 is **zero**.\n"
     ]
    }
   ],
   "source": [
    "num = float(input(\"Enter a number: \"))\n",
    "\n",
    "if num > 0:\n",
    "    print(f\"The number {num} is **positive**.\")\n",
    "elif num == 0:\n",
    "    print(f\"The number {num} is **zero**.\")\n",
    "else:\n",
    "    print(f\"The number {num} is **negative**.\")"
   ]
  },
  {
   "cell_type": "code",
   "execution_count": 4,
   "id": "d497f06f",
   "metadata": {},
   "outputs": [
    {
     "name": "stdout",
     "output_type": "stream",
     "text": [
      "Enter a number: -2\n",
      "The number -2.0 is **negative**.\n"
     ]
    }
   ],
   "source": [
    "num = float(input(\"Enter a number: \"))\n",
    "\n",
    "if num > 0:\n",
    "    print(f\"The number {num} is **positive**.\")\n",
    "elif num == 0:\n",
    "    print(f\"The number {num} is **zero**.\")\n",
    "else:\n",
    "    print(f\"The number {num} is **negative**.\")"
   ]
  },
  {
   "cell_type": "markdown",
   "id": "550e1bc3",
   "metadata": {},
   "source": [
    "Context-10: Write a program that calculates the grade based on a given percentage."
   ]
  },
  {
   "cell_type": "code",
   "execution_count": 1,
   "id": "930a4e27",
   "metadata": {},
   "outputs": [
    {
     "name": "stdout",
     "output_type": "stream",
     "text": [
      "Enter the percentage: 90\n",
      "Grade: A\n"
     ]
    }
   ],
   "source": [
    "def determine_grade(percentage):\n",
    "    if percentage >= 90:\n",
    "        return 'A'\n",
    "    elif 80 <= percentage < 90:\n",
    "        return 'B'\n",
    "    elif 70 <= percentage < 80:\n",
    "        return 'C'\n",
    "    elif 60 <= percentage < 70:\n",
    "        return 'D'\n",
    "    elif 40 <= percentage < 60:\n",
    "        return 'E'\n",
    "    else:\n",
    "        return 'Fail'\n",
    "\n",
    "percentage = float(input(\"Enter the percentage: \"))\n",
    "\n",
    "grade = determine_grade(percentage)\n",
    "print(f\"Grade: {grade}\")"
   ]
  },
  {
   "cell_type": "markdown",
   "id": "9ea0f31c",
   "metadata": {},
   "source": [
    "# For Loop\n",
    "A \"for loop\" is a control flow statement in Python that allows us to iterate over a sequence of values, such as a list, tuple, dictionary, set, or string. It is called \"Defined Iteration.\" With definite iteration, the number of times the designated block will be executed is specified explicitly at the time the loop starts."
   ]
  },
  {
   "cell_type": "markdown",
   "id": "79d8f832",
   "metadata": {},
   "source": [
    "Context-11: Write a program that prints the first `n` natural numbers."
   ]
  },
  {
   "cell_type": "code",
   "execution_count": 2,
   "id": "c5e9a9ea",
   "metadata": {},
   "outputs": [
    {
     "name": "stdout",
     "output_type": "stream",
     "text": [
      "Enter the value of 'n': 50\n",
      "The first 50 natural numbers are:\n",
      "1 2 3 4 5 6 7 8 9 10 11 12 13 14 15 16 17 18 19 20 21 22 23 24 25 26 27 28 29 30 31 32 33 34 35 36 37 38 39 40 41 42 43 44 45 46 47 48 49 50 "
     ]
    }
   ],
   "source": [
    "n = int(input(\"Enter the value of 'n': \"))\n",
    "\n",
    "print(f\"The first {n} natural numbers are:\")\n",
    "for i in range(1, n + 1):\n",
    "    print(i, end=' ')"
   ]
  },
  {
   "cell_type": "markdown",
   "id": "ace0a166",
   "metadata": {},
   "source": [
    "Context-12: Write a program that calculates the factorial of a number."
   ]
  },
  {
   "cell_type": "code",
   "execution_count": 1,
   "id": "98e3da8d",
   "metadata": {},
   "outputs": [
    {
     "name": "stdout",
     "output_type": "stream",
     "text": [
      "Enter a positive integer: 5\n",
      "The factorial of 5 is 120\n"
     ]
    }
   ],
   "source": [
    "def factorial(n):\n",
    "    result = 1\n",
    "    for i in range(2, n + 1):\n",
    "        result *= i\n",
    "    return result\n",
    "\n",
    "num = int(input(\"Enter a positive integer: \"))\n",
    "\n",
    "if num >= 0:\n",
    "    fact = factorial(num)\n",
    "    print(f\"The factorial of {num} is {fact}\")\n",
    "else:\n",
    "    print(\"Factorial is not defined for negative numbers.\")"
   ]
  },
  {
   "cell_type": "code",
   "execution_count": 2,
   "id": "51a5195c",
   "metadata": {},
   "outputs": [
    {
     "name": "stdout",
     "output_type": "stream",
     "text": [
      "Enter a positive integer: -5\n",
      "Factorial is not defined for negative numbers.\n"
     ]
    }
   ],
   "source": [
    "def factorial(n):\n",
    "    result = 1\n",
    "    for i in range(2, n + 1):\n",
    "        result *= i\n",
    "    return result\n",
    "\n",
    "num = int(input(\"Enter a positive integer: \"))\n",
    "\n",
    "if num >= 0:\n",
    "    fact = factorial(num)\n",
    "    print(f\"The factorial of {num} is {fact}\")\n",
    "else:\n",
    "    print(\"Factorial is not defined for negative numbers.\")"
   ]
  },
  {
   "cell_type": "markdown",
   "id": "addafc6e",
   "metadata": {},
   "source": [
    "Context-13: Write a program that generates a Fibonacci sequence of length `n`."
   ]
  },
  {
   "cell_type": "code",
   "execution_count": 10,
   "id": "f32d4e9e",
   "metadata": {},
   "outputs": [
    {
     "name": "stdout",
     "output_type": "stream",
     "text": [
      "Enter the number of elements in the Fibonacci sequence (N >= 2): 10\n",
      "Fibonacci sequence of length 10: [0, 1, 1, 2, 3, 5, 8, 13, 21, 34]\n"
     ]
    }
   ],
   "source": [
    "def generate_fibonacci(n):\n",
    "    fibonacci_series = [0, 1]  # Initialize the list with starting elements: 0, 1\n",
    "    if n > 2:\n",
    "        for i in range(2, n):\n",
    "            # Next element in the series = sum of its previous two numbers\n",
    "            next_element = fibonacci_series[i - 1] + fibonacci_series[i - 2]\n",
    "            # Append the element to the series\n",
    "            fibonacci_series.append(next_element)\n",
    "    return fibonacci_series\n",
    "\n",
    "n = int(input(\"Enter the number of elements in the Fibonacci sequence (N >= 2): \"))\n",
    "\n",
    "fibonacci_sequence = generate_fibonacci(n)\n",
    "print(f\"Fibonacci sequence of length {n}: {fibonacci_sequence}\")"
   ]
  },
  {
   "cell_type": "markdown",
   "id": "04f4078e",
   "metadata": {},
   "source": [
    "Context-14: Write a program that checks if a given number is prime or not."
   ]
  },
  {
   "cell_type": "code",
   "execution_count": 1,
   "id": "6df316e2",
   "metadata": {},
   "outputs": [
    {
     "name": "stdout",
     "output_type": "stream",
     "text": [
      "Enter a number: 7\n",
      "7 is a prime number.\n"
     ]
    }
   ],
   "source": [
    "number = int(input(\"Enter a number: \"))\n",
    "is_prime = True\n",
    "\n",
    "if number <= 1:\n",
    "    is_prime = False\n",
    "else:\n",
    "    for i in range(2, int(number**0.5) + 1):\n",
    "        if number % i == 0:\n",
    "            is_prime = False\n",
    "            break\n",
    "            \n",
    "if is_prime:\n",
    "    print(f\"{number} is a prime number.\")\n",
    "else:\n",
    "    print(f\"{number} is not a prime number.\")"
   ]
  },
  {
   "cell_type": "code",
   "execution_count": 2,
   "id": "680bf3e8",
   "metadata": {},
   "outputs": [
    {
     "name": "stdout",
     "output_type": "stream",
     "text": [
      "Enter a number: 10\n",
      "10 is not a prime number.\n"
     ]
    }
   ],
   "source": [
    "number = int(input(\"Enter a number: \"))\n",
    "is_prime = True\n",
    "\n",
    "if number <= 1:\n",
    "    is_prime = False\n",
    "else:\n",
    "    for i in range(2, int(number**0.5) + 1):\n",
    "        if number % i == 0:\n",
    "            is_prime = False\n",
    "            break\n",
    "            \n",
    "if is_prime:\n",
    "    print(f\"{number} is a prime number.\")\n",
    "else:\n",
    "    print(f\"{number} is not a prime number.\")"
   ]
  },
  {
   "cell_type": "markdown",
   "id": "e0795591",
   "metadata": {},
   "source": [
    "Context-15: Write a program that prints the multiplication table of a given number."
   ]
  },
  {
   "cell_type": "code",
   "execution_count": 1,
   "id": "7c17402d",
   "metadata": {},
   "outputs": [
    {
     "name": "stdout",
     "output_type": "stream",
     "text": [
      "Enter a number: 10\n",
      "Multiplication table for 10:\n",
      "10 x 1 = 10\n",
      "10 x 2 = 20\n",
      "10 x 3 = 30\n",
      "10 x 4 = 40\n",
      "10 x 5 = 50\n",
      "10 x 6 = 60\n",
      "10 x 7 = 70\n",
      "10 x 8 = 80\n",
      "10 x 9 = 90\n",
      "10 x 10 = 100\n"
     ]
    }
   ],
   "source": [
    "number = int(input(\"Enter a number: \"))\n",
    "print(f\"Multiplication table for {number}:\")\n",
    "\n",
    "for i in range(1, 11):\n",
    "    result = number * i\n",
    "    print(f\"{number} x {i} = {result}\")"
   ]
  },
  {
   "cell_type": "markdown",
   "id": "35544281",
   "metadata": {},
   "source": [
    "# While Loop\n",
    "Python While Loop is used to execute a block of statements repeatedly until a given condition is satisfied. When the condition becomes false, the line immediately after the loop in the program is executed. It is called \"Indefinite Iteration.\" With indefinite iteration, the number of times the loop is executed isn’t specified explicitly in advance. Rather, the designated block is executed repeatedly as long as some condition is met."
   ]
  },
  {
   "cell_type": "markdown",
   "id": "1eda309e",
   "metadata": {},
   "source": [
    "Context-16: Write a program that finds the sum of all even numbers between 1 and \"n\"."
   ]
  },
  {
   "cell_type": "code",
   "execution_count": 1,
   "id": "8105970c",
   "metadata": {},
   "outputs": [
    {
     "name": "stdout",
     "output_type": "stream",
     "text": [
      "Enter a number: 10\n",
      "The sum of all even numbers between 1 and 10 is **30**.\n"
     ]
    }
   ],
   "source": [
    "n = int(input(\"Enter a number: \"))\n",
    "sum = 0\n",
    "i = 2\n",
    "while i <= n:\n",
    "    sum += i\n",
    "    i += 2\n",
    "print(f\"The sum of all even numbers between 1 and {n} is **{sum}**.\")"
   ]
  },
  {
   "cell_type": "markdown",
   "id": "0b3a6925",
   "metadata": {},
   "source": [
    "Context-17: Write a program that reverses a given number."
   ]
  },
  {
   "cell_type": "code",
   "execution_count": 5,
   "id": "1ef7b347",
   "metadata": {},
   "outputs": [
    {
     "name": "stdout",
     "output_type": "stream",
     "text": [
      "Enter a number: 12345\n",
      "The reverse of the given number is **54321**.\n"
     ]
    }
   ],
   "source": [
    "num = int(input(\"Enter a number: \"))\n",
    "reversed_num = 0\n",
    "while num != 0:\n",
    "    digit = num % 10\n",
    "    reversed_num = reversed_num * 10 + digit\n",
    "    num //= 10\n",
    "print(f\"The reverse of the given number is **{reversed_num}**.\")"
   ]
  },
  {
   "cell_type": "markdown",
   "id": "ada36a84",
   "metadata": {},
   "source": [
    "Context-18: Write a program that checks if a given stringis a palindrome."
   ]
  },
  {
   "cell_type": "code",
   "execution_count": 6,
   "id": "47936c0e",
   "metadata": {},
   "outputs": [
    {
     "name": "stdout",
     "output_type": "stream",
     "text": [
      "Enter a string: Mom\n",
      "The given string 'mom' is a **palindrome**.\n"
     ]
    }
   ],
   "source": [
    "string = input(\"Enter a string: \")\n",
    "string = string.lower()\n",
    "i = 0\n",
    "j = len(string) - 1\n",
    "while i < j:\n",
    "    if string[i] != string[j]:\n",
    "        print(f\"The given string '{string}' is **not** a palindrome.\")\n",
    "        break\n",
    "    i += 1\n",
    "    j -= 1\n",
    "else:\n",
    "    print(f\"The given string '{string}' is a **palindrome**.\")"
   ]
  },
  {
   "cell_type": "markdown",
   "id": "2bebeb31",
   "metadata": {},
   "source": [
    "Context-19: Write a program that generates a random number and allows the user to guess it."
   ]
  },
  {
   "cell_type": "code",
   "execution_count": 9,
   "id": "6535a693",
   "metadata": {},
   "outputs": [
    {
     "name": "stdout",
     "output_type": "stream",
     "text": [
      "Guess a number between 1 and 100: 36\n",
      "Too low!\n",
      "Guess again: 40\n",
      "Too low!\n",
      "Guess again: 50\n",
      "Too low!\n",
      "Guess again: 60\n",
      "Too low!\n",
      "Guess again: 70\n",
      "Too low!\n",
      "Guess again: 80\n",
      "Too high!\n",
      "Guess again: 75\n",
      "Too high!\n",
      "Guess again: 73\n",
      "Too high!\n",
      "Guess again: 72\n",
      "Congratulations! The number was 72.\n"
     ]
    }
   ],
   "source": [
    "import random\n",
    "number = random.randint(1, 100)\n",
    "guess = int(input(\"Guess a number between 1 and 100: \"))\n",
    "while guess != number:\n",
    "    if guess < number:\n",
    "        print(\"Too low!\")\n",
    "    else:\n",
    "        print(\"Too high!\")\n",
    "    guess = int(input(\"Guess again: \"))\n",
    "print(f\"Congratulations! The number was {number}.\")"
   ]
  },
  {
   "cell_type": "markdown",
   "id": "c52c5dc8",
   "metadata": {},
   "source": [
    "Context-20: Write python program that finds the greatest common divisor (GCD) of two numbers."
   ]
  },
  {
   "cell_type": "code",
   "execution_count": 15,
   "id": "f89fbd85",
   "metadata": {},
   "outputs": [
    {
     "name": "stdout",
     "output_type": "stream",
     "text": [
      "Enter the first number: 75\n",
      "Enter the second number: 20\n",
      "The greatest common divisor of 0 and 5 is **5**.\n"
     ]
    }
   ],
   "source": [
    "num1 = int(input(\"Enter the first number: \"))\n",
    "num2 = int(input(\"Enter the second number: \"))\n",
    "\n",
    "# Swap the numbers if num1 is greater than num2\n",
    "if num1 > num2:\n",
    "    num1, num2 = num2, num1\n",
    "\n",
    "# Find the GCD using the Euclidean algorithm\n",
    "while num1 != 0:\n",
    "    temp = num1\n",
    "    num1 = num2 % num1\n",
    "    num2 = temp\n",
    "\n",
    "print(f\"The greatest common divisor of {num1} and {num2} is **{num2}**.\")"
   ]
  },
  {
   "cell_type": "code",
   "execution_count": null,
   "id": "e8f49e8f",
   "metadata": {},
   "outputs": [],
   "source": []
  }
 ],
 "metadata": {
  "kernelspec": {
   "display_name": "Python 3 (ipykernel)",
   "language": "python",
   "name": "python3"
  },
  "language_info": {
   "codemirror_mode": {
    "name": "ipython",
    "version": 3
   },
   "file_extension": ".py",
   "mimetype": "text/x-python",
   "name": "python",
   "nbconvert_exporter": "python",
   "pygments_lexer": "ipython3",
   "version": "3.11.5"
  }
 },
 "nbformat": 4,
 "nbformat_minor": 5
}
